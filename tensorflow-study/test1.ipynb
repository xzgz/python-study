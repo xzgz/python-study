{
 "cells": [
  {
   "cell_type": "code",
   "execution_count": 16,
   "metadata": {},
   "outputs": [
    {
     "name": "stdout",
     "output_type": "stream",
     "text": [
      "3.5.5\n",
      "/home/weiying1/anaconda3/envs/py35-tf140-gpu/lib/python3.5/platform.py\n",
      "3.5.5 |Anaconda, Inc.| (default, Mar 12 2018, 23:12:44) \n",
      "[GCC 7.2.0]\n",
      "sys.version_info(major=3, minor=5, micro=5, releaselevel='final', serial=0)\n",
      "tf version: 1.4.0\n",
      "tf location: /home/weiying1/anaconda3/envs/py35-tf140-gpu/lib/python3.5/site-packages/tensorflow/__init__.py\n",
      "b'Hello, TensorFlow!'\n",
      "/home/weiying1/anaconda3/envs/py35-tf140-gpu/lib/python3.5/site-packages/matplotlib/__init__.py\n",
      "2.0.2\n",
      "/home/weiying1/anaconda3/envs/py35-tf140-gpu/lib/python3.5/site-packages/easydict/__init__.py\n",
      "opencv version: 3.2.0\n",
      "opencv location: /home/weiying1/anaconda3/envs/py35-tf140-gpu/lib/python3.5/site-packages/cv2/cv2.cpython-35m-x86_64-linux-gnu.so\n"
     ]
    }
   ],
   "source": [
    "import platform\n",
    "import sys\n",
    "print(platform.python_version())\n",
    "print(platform.__file__)\n",
    "print(sys.version)\n",
    "print(sys.version_info)\n",
    "\n",
    "import tensorflow as tf\n",
    "import os\n",
    "os.environ[\"CUDA_VISIBLE_DEVICES\"] = \"1\"\n",
    "hello = tf.constant('Hello, TensorFlow!')\n",
    "sess = tf.Session()\n",
    "print('tf version: ' + tf.__version__)\n",
    "print('tf location: ' + tf.__file__)\n",
    "print(sess.run(hello))\n",
    "\n",
    "import matplotlib as mpl\n",
    "print(mpl.__file__)\n",
    "print(mpl.__version__)\n",
    "import easydict as edt\n",
    "print(edt.__file__)\n",
    "# print(edt.__version__)\n",
    "import cv2\n",
    "print('opencv version: ' + cv2.__version__)\n",
    "print(\"opencv location: \" + cv2.__file__)\n",
    "# !cat /home/weiying1/anaconda3/envs/python35/lib/python3.5/site-packages/easydict/__init__.py"
   ]
  }
 ],
 "metadata": {
  "kernelspec": {
   "display_name": "py35-tf140-gpu",
   "language": "python",
   "name": "py35-tf140-gpu"
  },
  "language_info": {
   "codemirror_mode": {
    "name": "ipython",
    "version": 3
   },
   "file_extension": ".py",
   "mimetype": "text/x-python",
   "name": "python",
   "nbconvert_exporter": "python",
   "pygments_lexer": "ipython3",
   "version": "3.5.5"
  }
 },
 "nbformat": 4,
 "nbformat_minor": 2
}
