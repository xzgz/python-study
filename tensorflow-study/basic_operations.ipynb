{
 "cells": [
  {
   "cell_type": "code",
   "execution_count": 7,
   "metadata": {},
   "outputs": [
    {
     "name": "stdout",
     "output_type": "stream",
     "text": [
      "Tensor(\"Const_12:0\", shape=(), dtype=int32)\n",
      "Tensor(\"Const_13:0\", shape=(), dtype=int32)\n"
     ]
    }
   ],
   "source": [
    "import tensorflow as tf\n",
    "# Basic constant operations\n",
    "# The value returned by the constructor represents the output\n",
    "# of the Constant op.\n",
    "a = tf.constant(2)\n",
    "b = tf.constant(3)\n",
    "\n",
    "print(a)\n",
    "print(b)"
   ]
  },
  {
   "cell_type": "code",
   "execution_count": 80,
   "metadata": {},
   "outputs": [
    {
     "name": "stdout",
     "output_type": "stream",
     "text": [
      "Tensor(\"Const_12:0\", shape=(), dtype=int32)\n",
      "Tensor(\"Const_13:0\", shape=(), dtype=int32)\n",
      "a's type:  <class 'tensorflow.python.framework.ops.Tensor'>\n",
      "b's type:  <class 'tensorflow.python.framework.ops.Tensor'>\n",
      "[2, 3]\n"
     ]
    }
   ],
   "source": [
    "print(a)\n",
    "print(b)\n",
    "print(\"a's type: \", type(b))\n",
    "print(\"b's type: \", type(b))\n",
    "sess = tf.Session()\n",
    "# sess = tf.InteractiveSession()\n",
    "# print(sess.run(a))\n",
    "# print(a.eval())\n",
    "# print(b.eval())\n",
    "# print(a.eval(session=sess))\n",
    "print(sess.run([a, b]))\n",
    "# with sess.as_default():\n",
    "#     assert tf.get_default_session() is sess\n",
    "#     print(sess)\n",
    "#     print(tf.get_default_session())\n",
    "#     print(b.eval())"
   ]
  },
  {
   "cell_type": "code",
   "execution_count": 71,
   "metadata": {},
   "outputs": [
    {
     "name": "stdout",
     "output_type": "stream",
     "text": [
      "a: 2 b: 3\n",
      "Addition with constants: 5\n",
      "Multiplication with constants: 6\n",
      "sess.run(a)'s type:  <class 'numpy.int32'>\n",
      "sess.run(b)'s type:  <class 'numpy.int32'>\n",
      "a's type:  <class 'tensorflow.python.framework.ops.Tensor'>\n",
      "b's type:  <class 'tensorflow.python.framework.ops.Tensor'>\n"
     ]
    }
   ],
   "source": [
    "# Launch the default graph.\n",
    "with tf.Session() as sess:\n",
    "    print(\"a: %i\" % sess.run(a), \"b: %i\" % sess.run(b))\n",
    "    print(\"Addition with constants: %i\" % sess.run(a + b))\n",
    "    print(\"Multiplication with constants: %i\" % sess.run(a * b))\n",
    "    print(\"sess.run(a)'s type: \", type(sess.run(a)))\n",
    "    print(\"sess.run(b)'s type: \", type(sess.run(b)))\n",
    "    print(\"a's type: \", type(b))\n",
    "    print(\"b's type: \", type(b))"
   ]
  },
  {
   "cell_type": "code",
   "execution_count": 108,
   "metadata": {},
   "outputs": [
    {
     "name": "stdout",
     "output_type": "stream",
     "text": [
      "Tensor(\"Placeholder_6:0\", dtype=int16)\n",
      "Tensor(\"Placeholder_7:0\", dtype=int16)\n"
     ]
    }
   ],
   "source": [
    "# Basic Operations with variable as graph input\n",
    "# The value returned by the constructor represents the output\n",
    "# of the Variable op. (define as input when running session)\n",
    "# tf Graph input\n",
    "a = tf.placeholder(tf.int16)\n",
    "b = tf.placeholder(tf.int16)\n",
    "\n",
    "print(a)\n",
    "print(b)"
   ]
  },
  {
   "cell_type": "code",
   "execution_count": 386,
   "metadata": {},
   "outputs": [
    {
     "name": "stdout",
     "output_type": "stream",
     "text": [
      "Tensor(\"Placeholder_26:0\", dtype=int16)\n",
      "Tensor(\"Placeholder_27:0\", dtype=int16)\n",
      "a's type:  <class 'tensorflow.python.framework.ops.Tensor'>\n",
      "b's type:  <class 'tensorflow.python.framework.ops.Tensor'>\n"
     ]
    }
   ],
   "source": [
    "print(a)\n",
    "print(b)\n",
    "print(\"a's type: \", type(b))\n",
    "print(\"b's type: \", type(b))"
   ]
  },
  {
   "cell_type": "code",
   "execution_count": 103,
   "metadata": {},
   "outputs": [
    {
     "name": "stdout",
     "output_type": "stream",
     "text": [
      "Tensor(\"Add_24:0\", shape=(), dtype=int32)\n",
      "Tensor(\"Mul_24:0\", shape=(), dtype=int32)\n",
      "50\n",
      "600\n"
     ]
    }
   ],
   "source": [
    "# Define some operations\n",
    "add = tf.add(a, b)\n",
    "mul = tf.multiply(a, b)\n",
    "\n",
    "print(add)\n",
    "print(mul)\n",
    "print(add.eval(feed_dict={a: 20, b: 30}, session=sess))\n",
    "print(mul.eval(feed_dict={a: 20, b: 30}, session=sess))"
   ]
  },
  {
   "cell_type": "code",
   "execution_count": 14,
   "metadata": {},
   "outputs": [
    {
     "name": "stdout",
     "output_type": "stream",
     "text": [
      "Tensor(\"Add_2:0\", shape=(), dtype=int32)\n",
      "Tensor(\"Mul_2:0\", shape=(), dtype=int32)\n",
      "add's type:  <class 'tensorflow.python.framework.ops.Tensor'>\n",
      "mul's type:  <class 'tensorflow.python.framework.ops.Tensor'>\n"
     ]
    }
   ],
   "source": [
    "print(add)\n",
    "print(mul)\n",
    "print(\"add's type: \", type(add))\n",
    "print(\"mul's type: \", type(mul))"
   ]
  },
  {
   "cell_type": "code",
   "execution_count": 60,
   "metadata": {},
   "outputs": [
    {
     "name": "stdout",
     "output_type": "stream",
     "text": [
      "Addition with variables: 5\n",
      "Multiplication with variables: 6\n",
      "add's type:  <class 'tensorflow.python.framework.ops.Tensor'>\n",
      "mul's type:  <class 'tensorflow.python.framework.ops.Tensor'>\n"
     ]
    }
   ],
   "source": [
    "# Launch the default graph.\n",
    "with tf.Session() as sess:\n",
    "    # Run every operation with variable input\n",
    "    print(\"Addition with variables: %i\" % sess.run(add, feed_dict={a: 2, b: 3}))\n",
    "    print(\"Multiplication with variables: %i\" % sess.run(mul, feed_dict={a: 2, b: 3}))\n",
    "    print(\"add's type: \", type(add))\n",
    "    print(\"mul's type: \", type(mul))"
   ]
  },
  {
   "cell_type": "code",
   "execution_count": 236,
   "metadata": {},
   "outputs": [
    {
     "name": "stdout",
     "output_type": "stream",
     "text": [
      "Tensor(\"Const_72:0\", shape=(1, 2), dtype=float32)\n",
      "Tensor(\"Const_73:0\", shape=(2, 1), dtype=float32)\n",
      "Tensor(\"MatMul_21:0\", shape=(1, 1), dtype=float32)\n"
     ]
    }
   ],
   "source": [
    "# ----------------\n",
    "# More in details:\n",
    "# Matrix Multiplication from TensorFlow official tutorial\n",
    "\n",
    "# Create a Constant op that produces a 1x2 matrix.  The op is\n",
    "# added as a node to the default graph.\n",
    "#\n",
    "# The value returned by the constructor represents the output\n",
    "# of the Constant op.\n",
    "matrix1 = tf.constant([[3., 3.]])\n",
    "\n",
    "# Create another Constant that produces a 2x1 matrix.\n",
    "matrix2 = tf.constant([[2.], [2.]])\n",
    "\n",
    "# Create a Matmul op that takes 'matrix1' and 'matrix2' as inputs.\n",
    "# The returned value, 'product', represents the result of the matrix\n",
    "# multiplication.\n",
    "product = tf.matmul(matrix1, matrix2)\n",
    "\n",
    "print(matrix1)\n",
    "print(matrix2)\n",
    "print(product)"
   ]
  },
  {
   "cell_type": "code",
   "execution_count": 445,
   "metadata": {},
   "outputs": [
    {
     "name": "stdout",
     "output_type": "stream",
     "text": [
      "Tensor(\"Const_72:0\", shape=(1, 2), dtype=float32)\n",
      "Tensor(\"Const_73:0\", shape=(2, 1), dtype=float32)\n",
      "Tensor(\"MatMul_21:0\", shape=(1, 1), dtype=float32)\n",
      "matrix1's type:  <class 'tensorflow.python.framework.ops.Tensor'>\n",
      "matrix2's type:  <class 'tensorflow.python.framework.ops.Tensor'>\n",
      "product's type:  <class 'tensorflow.python.framework.ops.Tensor'>\n"
     ]
    }
   ],
   "source": [
    "print(matrix1)\n",
    "print(matrix2)\n",
    "print(product)\n",
    "print(\"matrix1's type: \", type(matrix1))\n",
    "print(\"matrix2's type: \", type(matrix2))\n",
    "print(\"product's type: \", type(product))"
   ]
  },
  {
   "cell_type": "code",
   "execution_count": 461,
   "metadata": {},
   "outputs": [
    {
     "name": "stdout",
     "output_type": "stream",
     "text": [
      "[[ 12.]]\n",
      "'result's type:  <class 'numpy.ndarray'>\n"
     ]
    }
   ],
   "source": [
    "# To run the matmul op we call the session 'run()' method, passing 'product'\n",
    "# which represents the output of the matmul op.  This indicates to the call\n",
    "# that we want to get the output of the matmul op back.\n",
    "#\n",
    "# All inputs needed by the op are run automatically by the session.  They\n",
    "# typically are run in parallel.\n",
    "#\n",
    "# The call 'run(product)' thus causes the execution of threes ops in the\n",
    "# graph: the two constants and matmul.\n",
    "#\n",
    "# The output of the op is returned in 'result' as a numpy `ndarray` object.\n",
    "with tf.Session() as sess:\n",
    "    result = sess.run(product)\n",
    "    print(result)\n",
    "    print(\"'result's type: \", type(result))"
   ]
  },
  {
   "cell_type": "code",
   "execution_count": 173,
   "metadata": {},
   "outputs": [
    {
     "data": {
      "text/plain": [
       "(2, 3)"
      ]
     },
     "execution_count": 173,
     "metadata": {},
     "output_type": "execute_result"
    }
   ],
   "source": [
    "x = 0\n",
    "y = 1\n",
    "dict_eg = {x: 2, y: 3}\n",
    "dict_eg[x], dict_eg[y]"
   ]
  }
 ],
 "metadata": {
  "kernelspec": {
   "display_name": "py35-tf140-gpu",
   "language": "python",
   "name": "py35-tf140-gpu"
  },
  "language_info": {
   "codemirror_mode": {
    "name": "ipython",
    "version": 3
   },
   "file_extension": ".py",
   "mimetype": "text/x-python",
   "name": "python",
   "nbconvert_exporter": "python",
   "pygments_lexer": "ipython3",
   "version": "3.5.5"
  }
 },
 "nbformat": 4,
 "nbformat_minor": 2
}
