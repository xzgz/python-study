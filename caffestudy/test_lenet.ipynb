{
 "cells": [
  {
   "cell_type": "code",
   "execution_count": 3,
   "metadata": {},
   "outputs": [
    {
     "name": "stdout",
     "output_type": "stream",
     "text": [
      "The initial shape of im is:  (10000, 28, 28)\n",
      "im_input type:  float64\n",
      "(10000, 1, 28, 28)\n",
      "(10000, 10)\n"
     ]
    }
   ],
   "source": [
    "import numpy as np\n",
    "import matplotlib.pyplot as plt\n",
    "import sys, os, cv2, struct\n",
    "\n",
    "caffe_root = '/home/heyanguang/caffecode/caffe/'\n",
    "sys.path.insert(0, caffe_root + 'python')\n",
    "os.chdir(caffe_root)\n",
    "import caffe\n",
    "\n",
    "if not os.path.isfile(caffe_root + 'examples/mnist/lenet_iter_10000.caffemodel'):\n",
    "    print(\"caffemodel is not exist...\")\n",
    "    \n",
    "caffe.set_mode_gpu()\n",
    "net = caffe.Net(caffe_root + 'examples/mnist/lenet.prototxt',\n",
    "                caffe_root + 'examples/mnist/lenet_iter_5000.caffemodel',\n",
    "                caffe.TEST)\n",
    "\n",
    "# print net.blobs['data'].data.shape\n",
    "\n",
    "# im = caffe.io.load_image('examples/images/cat_gray.jpg')\n",
    "\n",
    "# # res = caffe.io.resize_image(im, (32, 32))\n",
    "# res = cv2.resize(im, (32, 32), interpolation = cv2.INTER_CUBIC)\n",
    "# # plt.rcParams['image.cmap'] = 'gray'\n",
    "# plt.figure()\n",
    "# plt.imshow(res)\n",
    "# plt.axis('off')\n",
    "# print 'res', res.shape\n",
    "# plt.show()\n",
    "\n",
    "\n",
    "def readfile():\n",
    "#     with open('data/mnist/train-images-idx3-ubyte', 'rb') as f1:\n",
    "#         buf1 = f1.read()\n",
    "#     with open('data/mnist/train-labels-idx1-ubyte', 'rb') as f2:\n",
    "#         buf2 = f2.read()\n",
    "#     return buf1, buf2\n",
    "    with open('data/mnist/t10k-images-idx3-ubyte', 'rb') as f1:\n",
    "        buf1 = f1.read()\n",
    "    with open('data/mnist/t10k-labels-idx1-ubyte', 'rb') as f2:\n",
    "        buf2 = f2.read()\n",
    "    return buf1, buf2\n",
    "\n",
    "\n",
    "def get_image(buf1, read_count, start_location):\n",
    "    # I means unsigned int, need 4 bytes.\n",
    "    image_offset = struct.calcsize('IIII')\n",
    "    # Every picture contains 28*28 pixels, each pixel is one unsigned byte, so the offset is 784 * pic_index.\n",
    "    image_offset += 784 * start_location\n",
    "    im = []\n",
    "    for i in range(read_count):\n",
    "        # Read 784 unsigned bytes using big-endian.\n",
    "        temp = struct.unpack_from('>784B', buf1, image_offset)\n",
    "        im.append(np.reshape(temp, (28, 28)))\n",
    "        image_offset += struct.calcsize('784B')\n",
    "    return im\n",
    "\n",
    "\n",
    "def get_label(buf2, read_count, start_location):\n",
    "    label_offset = struct.calcsize('II')\n",
    "    label_offset += start_location\n",
    "    return struct.unpack_from(str(read_count) + 'B', buf2, label_offset)\n",
    "\n",
    "# plt.rcParams['image.cmap'] = 'gray'\n",
    "'''Transform multiple picture(2-D array) into one big 2-D array and show it.'''\n",
    "def show_data(data, head, padsize = 1, padval = 0):\n",
    "    data = data.astype('float')\n",
    "    data -= data.min()\n",
    "    data /= data.max()\n",
    "\n",
    "    # force the number of filters to be square\n",
    "    n = int(np.ceil(np.sqrt(data.shape[0])))\n",
    "#     print 'n', n\n",
    "    padding = ((0, n ** 2 - data.shape[0]), (0, padsize), (0, padsize)) + ((0, 0),) * (data.ndim - 3)\n",
    "#     print 'padding', padding\n",
    "#     print 'data.shape0', data.shape\n",
    "    data = np.pad(data, padding, mode = 'constant', constant_values = (padval, padval))\n",
    "\n",
    "    # tile the filters into an image\n",
    "#     print 'data.shape1', data.shape\n",
    "#     print 'data.shape[1:]', data.shape[1:]\n",
    "    ndim = data.ndim\n",
    "    data = data.reshape((n, n) + data.shape[1:])\n",
    "#     print 'data.shape2', data.shape\n",
    "#     print 'ndim', ndim\n",
    "\n",
    "#     print 'kk', (0, 2, 1, 3) + tuple(range(4, ndim + 1)), tuple(range(4, ndim + 1))\n",
    "    data = data.transpose((0, 2, 1, 3) + tuple(range(4, ndim + 1)))\n",
    "#     print 'data.shape3', data.shape\n",
    "\n",
    "#     print 'data.shape[4:]', data.shape[4:]\n",
    "    data = data.reshape((n * data.shape[1], n * data.shape[3]) + data.shape[4:])\n",
    "#     print 'data.shape4', data.shape\n",
    "    plt.figure()\n",
    "    plt.title(head)\n",
    "#     plt.imshow(data)\n",
    "    plt.imshow(data, cmap = 'gray')\n",
    "    plt.axis('off')\n",
    "\n",
    "\n",
    "# image_data, label_data = readfile()\n",
    "# image_offset = struct.calcsize('>IIII')\n",
    "# temp = struct.unpack_from('>784B', image_data, image_offset)\n",
    "# im = np.reshape(temp, (28, 28))\n",
    "# label_offset = 0\n",
    "# label_offset += struct.calcsize('>II')\n",
    "# label = struct.unpack_from('>B', label_data, label_offset)\n",
    "\n",
    "# title = str(label[0])\n",
    "# plt.title(title)\n",
    "# plt.imshow(im, cmap = 'gray')\n",
    "# plt.show()\n",
    "\n",
    "read_count = 10000\n",
    "start_image_index = 0\n",
    "image_data, label_data = readfile()\n",
    "im = get_image(image_data, read_count, start_image_index)\n",
    "im = np.array(im)\n",
    "print 'The initial shape of im is: ', im.shape\n",
    "label = get_label(label_data, read_count, start_image_index)\n",
    "\n",
    "'''Transform multiple pictures(2-D array) into one big 2-D array and show it.'''\n",
    "show_data(im, 'origin images')\n",
    "\n",
    "'''Show each of multiple pictures in a subplot separately.'''\n",
    "# for i in range(read_count):\n",
    "#     plt.subplot(np.sqrt(read_count), np.sqrt(read_count), i + 1)\n",
    "#     title = str(label[i])\n",
    "#     plt.title(title)\n",
    "#     plt.imshow(im[i], cmap = 'gray')\n",
    "\n",
    "# plt.show()\n",
    "# plt.axis('off')\n",
    "\n",
    "\n",
    "# transformer = caffe.io.Transformer({'data': net.blobs['data'].data.shape})\n",
    "# transformer.set_transpose('data', (3, 2, 0, 1))\n",
    "# transformer.set_raw_scale('data', 255)\n",
    "# transformer.set_channel_swap('data', (1, 0))\n",
    "# net.blobs['data'].data = transformer.preprocess('data', im)\n",
    "# im = im.astype('float')\n",
    "im_input = im[np.newaxis, :, :, :]/float(255)\n",
    "print 'im_input type: ', im_input.dtype\n",
    "im_input = im_input.transpose(1, 0, 2, 3)\n",
    "net.blobs['data'].reshape(*im_input.shape)\n",
    "net.blobs['data'].data[:] = im_input\n",
    "# print net.blobs['data'].data.shape\n",
    "print im_input.shape\n",
    "# net.blobs['data'].data\n",
    "\n",
    "net.forward()\n",
    "print net.blobs['prob'].data.shape\n",
    "\n",
    "\n",
    "# plt.show()\n",
    "\n",
    "\n"
   ]
  },
  {
   "cell_type": "code",
   "execution_count": 14,
   "metadata": {},
   "outputs": [
    {
     "name": "stdout",
     "output_type": "stream",
     "text": [
      "prediction error count:  94\n",
      "accuracy:  0.9906\n"
     ]
    }
   ],
   "source": [
    "# First method of computing accuracy.\n",
    "result = net.blobs['prob'].data.argsort()[:, -1]\n",
    "label = np.array(label)\n",
    "\n",
    "def find_fault_prediction(result, label):\n",
    "    result_wrong = []\n",
    "    ground_true = []\n",
    "    index = []\n",
    "    i = 0\n",
    "    it = iter(label)\n",
    "    for v in result:\n",
    "        el = next(it)\n",
    "        if v != el:\n",
    "            result_wrong.append(v)\n",
    "            ground_true.append(el)\n",
    "            index.append(i)\n",
    "        i += 1\n",
    "    return result_wrong, ground_true, index\n",
    "\n",
    "result = net.blobs['prob'].data.argsort()[:, -1]\n",
    "fault = find_fault_prediction(result, label)\n",
    "mismatch = zip(fault[0], fault[1])\n",
    "\n",
    "print 'prediction error count: ', len(mismatch)\n",
    "accuracy = 1 - len(mismatch)/float(len(label))\n",
    "print 'accuracy: ', accuracy\n",
    "if len(mismatch):\n",
    "    it = iter(fault[2])\n",
    "    for x, y in mismatch:\n",
    "#         print x, '->', y, '(ground_true)'\n",
    "        plt.imshow(im[next(it)], cmap = 'gray')\n",
    "        plt.axis('off')\n",
    "#         plt.show()\n"
   ]
  },
  {
   "cell_type": "code",
   "execution_count": 20,
   "metadata": {},
   "outputs": [
    {
     "name": "stdout",
     "output_type": "stream",
     "text": [
      "int64\n",
      "94\n",
      "accuracy:  0.9906\n"
     ]
    },
    {
     "data": {
      "text/plain": [
       "0.99060000000000004"
      ]
     },
     "execution_count": 20,
     "metadata": {},
     "output_type": "execute_result"
    }
   ],
   "source": [
    "# Second method of computing accuracy.\n",
    "def check_none_zero(v):\n",
    "    if v:\n",
    "        return 1\n",
    "    else:\n",
    "        return 0\n",
    "\n",
    "result = net.blobs['prob'].data.argsort()[:, -1]\n",
    "label = np.array(label)\n",
    "error = result - label\n",
    "\n",
    "error = map(check_none_zero, error)\n",
    "print np.abs(error).dtype\n",
    "print np.sum(np.abs(error))\n",
    "accuracy = 1 - np.sum(np.abs(error))/float(len(error))\n",
    "print 'accuracy: ', accuracy\n",
    "accuracy"
   ]
  },
  {
   "cell_type": "code",
   "execution_count": 24,
   "metadata": {},
   "outputs": [
    {
     "name": "stdout",
     "output_type": "stream",
     "text": [
      "[7 2 1 ..., 4 5 6]\n",
      "[[6 4 8 ..., 9 3 7]\n",
      " [4 5 9 ..., 0 1 2]\n",
      " [3 5 9 ..., 4 7 1]\n",
      " ..., \n",
      " [0 2 5 ..., 9 7 4]\n",
      " [2 1 7 ..., 6 8 5]\n",
      " [7 1 9 ..., 5 4 6]]\n"
     ]
    }
   ],
   "source": [
    "# net.blobs['prob'].data[0].flatten().argsort()[-1:-6:-1]\n",
    "print net.blobs['prob'].data.argsort()[:, -1]\n",
    "# print net.blobs['prob'].data\n",
    "print net.blobs['prob'].data.argsort()"
   ]
  },
  {
   "cell_type": "code",
   "execution_count": 26,
   "metadata": {},
   "outputs": [
    {
     "data": {
      "image/png": "[encoded data removed]",
      "text/plain": [
       "<matplotlib.figure.Figure at 0x7fa5d0b46b50>"
      ]
     },
     "metadata": {},
     "output_type": "display_data"
    },
    {
     "name": "stdout",
     "output_type": "stream",
     "text": [
      "float32\n"
     ]
    }
   ],
   "source": [
    "# show_data(net.blobs['data'].data[:, 0, :, :], 'origin images')\n",
    "pic = im.astype('float')\n",
    "show_data(pic, 'origin images')\n",
    "\n",
    "\n",
    "plt.show()\n",
    "# print pic.dtype\n",
    "# print im.dtype\n",
    "a = net.blobs['data'].data[:, 0, :, :]\n",
    "print a.dtype"
   ]
  },
  {
   "cell_type": "code",
   "execution_count": 30,
   "metadata": {},
   "outputs": [
    {
     "data": {
      "text/plain": [
       "[('conv1', (20, 1, 5, 5)),\n",
       " ('conv2', (50, 20, 5, 5)),\n",
       " ('ip1', (500, 800)),\n",
       " ('ip2', (10, 500))]"
      ]
     },
     "execution_count": 30,
     "metadata": {},
     "output_type": "execute_result"
    }
   ],
   "source": [
    "[(k, v[0].data.shape) for k, v in net.params.items()]"
   ]
  },
  {
   "cell_type": "code",
   "execution_count": 43,
   "metadata": {},
   "outputs": [
    {
     "data": {
      "text/plain": [
       "[('data', (10000, 1, 28, 28)),\n",
       " ('conv1', (10000, 20, 24, 24)),\n",
       " ('pool1', (10000, 20, 12, 12)),\n",
       " ('conv2', (10000, 50, 8, 8)),\n",
       " ('pool2', (10000, 50, 4, 4)),\n",
       " ('ip1', (10000, 500)),\n",
       " ('ip2', (10000, 10)),\n",
       " ('prob', (10000, 10))]"
      ]
     },
     "execution_count": 43,
     "metadata": {},
     "output_type": "execute_result"
    }
   ],
   "source": [
    "[(k, v.data.shape) for k, v in net.blobs.items()]"
   ]
  },
  {
   "cell_type": "code",
   "execution_count": 267,
   "metadata": {},
   "outputs": [
    {
     "data": {
      "text/plain": [
       "[('conv1', (20,)), ('conv2', (50,)), ('ip1', (500,)), ('ip2', (10,))]"
      ]
     },
     "execution_count": 267,
     "metadata": {},
     "output_type": "execute_result"
    }
   ],
   "source": [
    "[(k, v[1].data.shape) for k, v in net.params.items()]"
   ]
  },
  {
   "cell_type": "code",
   "execution_count": 451,
   "metadata": {},
   "outputs": [
    {
     "data": {
      "text/plain": [
       "array([-0.09038273,  0.11930034,  0.02654106, -0.03046878, -0.16157196,\n",
       "       -0.20204072, -0.17509261, -0.09531659,  0.00434413,  0.09689505,\n",
       "       -0.04296343, -0.15566881, -0.19010951, -0.11075365, -0.12373389,\n",
       "       -0.07710829,  0.06175511, -0.17591271,  0.0474395 , -0.15109913], dtype=float32)"
      ]
     },
     "execution_count": 451,
     "metadata": {},
     "output_type": "execute_result"
    }
   ],
   "source": [
    "feature_map_index = 14\n",
    "params = net.params['conv1'][0].data[feature_map_index, 0, :, :]\n",
    "plt.figure()\n",
    "plt.imshow(params, cmap = 'gray')\n",
    "pics = net.blobs['conv1'].data[:, feature_map_index, :, :]\n",
    "# print 'pics', pics\n",
    "# print 'params', params\n",
    "# print 'bias', net.params['conv1'][1].data[feature_map_index]\n",
    "show_data(pics, 'conv1 feature map ' + str(feature_map_index))\n",
    "\n",
    "feature_map_index = 5\n",
    "params = net.params['conv1'][0].data[feature_map_index, 0, :, :]\n",
    "plt.figure()\n",
    "plt.imshow(params, cmap = 'gray')\n",
    "pics = net.blobs['conv1'].data[:, feature_map_index, :, :]\n",
    "# print 'pics', pics\n",
    "# print 'params', params\n",
    "# print 'bias', net.params['conv1'][1].data[feature_map_index]\n",
    "show_data(pics, 'conv1 feature map ' + str(feature_map_index))\n",
    "\n",
    "\n",
    "# plt.show()\n"
   ]
  },
  {
   "cell_type": "code",
   "execution_count": 336,
   "metadata": {
    "collapsed": true
   },
   "outputs": [],
   "source": [
    "feature_map_index = 14\n",
    "pics = net.blobs['pool1'].data[:, feature_map_index, :, :]\n",
    "# print 'pics', pics\n",
    "show_data(pics, 'pool1 feature map ' + str(feature_map_index))\n",
    "\n",
    "feature_map_index = 5\n",
    "pics = net.blobs['pool1'].data[:, feature_map_index, :, :]\n",
    "# print 'pics', pics\n",
    "show_data(pics, 'pool1 feature map ' + str(feature_map_index))\n",
    "\n",
    "\n",
    "# plt.show()\n"
   ]
  },
  {
   "cell_type": "code",
   "execution_count": 341,
   "metadata": {
    "collapsed": true
   },
   "outputs": [],
   "source": [
    "feature_map_index = 14\n",
    "params = net.params['conv2'][0].data[feature_map_index, 0, :, :]\n",
    "plt.figure()\n",
    "plt.imshow(params, cmap = 'gray')\n",
    "pics = net.blobs['conv2'].data[:, feature_map_index, :, :]\n",
    "# print 'pics', pics\n",
    "# print 'params', params\n",
    "# print 'bias', net.params['conv1'][1].data[feature_map_index]\n",
    "show_data(pics, 'conv2 feature map ' + str(feature_map_index))\n",
    "\n",
    "feature_map_index = 5\n",
    "params = net.params['conv2'][0].data[feature_map_index, 0, :, :]\n",
    "plt.figure()\n",
    "plt.imshow(params, cmap = 'gray')\n",
    "pics = net.blobs['conv2'].data[:, feature_map_index, :, :]\n",
    "# print 'pics', pics\n",
    "# print 'params', params\n",
    "# print 'bias', net.params['conv1'][1].data[feature_map_index]\n",
    "show_data(pics, 'conv2 feature map ' + str(feature_map_index))\n",
    "\n",
    "\n",
    "# plt.show()\n"
   ]
  },
  {
   "cell_type": "code",
   "execution_count": 357,
   "metadata": {
    "collapsed": true
   },
   "outputs": [],
   "source": [
    "feature_map_index = 14\n",
    "pics = net.blobs['pool2'].data[:, feature_map_index, :, :]\n",
    "# print 'pics', pics\n",
    "show_data(pics, 'pool2 feature map ' + str(feature_map_index))\n",
    "\n",
    "feature_map_index = 5\n",
    "pics = net.blobs['pool2'].data[:, feature_map_index, :, :]\n",
    "# print 'pics', pics\n",
    "show_data(pics, 'pool2 feature map ' + str(feature_map_index))\n",
    "\n",
    "\n",
    "# plt.show()\n"
   ]
  },
  {
   "cell_type": "code",
   "execution_count": 490,
   "metadata": {
    "collapsed": true
   },
   "outputs": [],
   "source": [
    "ip1 = net.blobs['ip1'].data\n",
    "ip2 = net.blobs['ip2'].data\n",
    "\n",
    "wip1 = net.params['ip1'][0].data\n",
    "wip2 = net.params['ip2'][0].data\n",
    "bip1 = net.params['ip1'][1].data\n",
    "bip2 = net.params['ip2'][1].data\n"
   ]
  },
  {
   "cell_type": "code",
   "execution_count": 318,
   "metadata": {},
   "outputs": [
    {
     "name": "stdout",
     "output_type": "stream",
     "text": [
      "[  2.68033884e-09   1.47391248e-07   7.72731164e-06   8.52263911e-05\n",
      "   4.15184368e-05   3.42034900e-06   2.51169257e-13   3.13184159e-07\n",
      "   5.70398743e-06   9.99855876e-01]\n"
     ]
    },
    {
     "data": {
      "text/plain": [
       "array([  2.68033884e-09,   1.47391248e-07,   7.72731164e-06,\n",
       "         8.52263911e-05,   4.15184368e-05,   3.42034900e-06,\n",
       "         2.51169257e-13,   3.13184159e-07,   5.70398743e-06,\n",
       "         9.99855876e-01], dtype=float32)"
      ]
     },
     "execution_count": 318,
     "metadata": {},
     "output_type": "execute_result"
    }
   ],
   "source": [
    "feat = net.blobs['prob'].data\n",
    "print feat[7]\n",
    "feat[7]\n",
    "# plt.plot(feat[0].flat)\n",
    "# plt.show()"
   ]
  }
 ],
 "metadata": {
  "kernelspec": {
   "display_name": "Python 2",
   "language": "python",
   "name": "python2"
  },
  "language_info": {
   "codemirror_mode": {
    "name": "ipython",
    "version": 2
   },
   "file_extension": ".py",
   "mimetype": "text/x-python",
   "name": "python",
   "nbconvert_exporter": "python",
   "pygments_lexer": "ipython2",
   "version": "2.7.14"
  }
 },
 "nbformat": 4,
 "nbformat_minor": 2
}
