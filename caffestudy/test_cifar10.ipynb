{
 "cells": [
  {
   "cell_type": "code",
   "execution_count": 7,
   "metadata": {
    "collapsed": true
   },
   "outputs": [],
   "source": [
    "import numpy as np\n",
    "import matplotlib.pyplot as plt\n",
    "import sys, os, cv2\n",
    "\n",
    "caffe_root = '/home/heyanguang/caffecode/caffe/'\n",
    "sys.path.insert(0, caffe_root + 'python')\n",
    "os.chdir(caffe_root)\n",
    "import caffe"
   ]
  },
  {
   "cell_type": "code",
   "execution_count": 29,
   "metadata": {
    "collapsed": true
   },
   "outputs": [],
   "source": [
    "caffe.set_mode_gpu()\n",
    "net = caffe.Net(caffe_root + 'examples/cifar10/cifar10_quick.prototxt',\n",
    "                caffe_root + 'examples/cifar10/cifar10_quick_iter_4000.caffemodel',\n",
    "                caffe.TEST)"
   ]
  },
  {
   "cell_type": "code",
   "execution_count": 42,
   "metadata": {
    "collapsed": true
   },
   "outputs": [],
   "source": [
    "def convert_mean(binMean,npyMean):\n",
    "    blob = caffe.proto.caffe_pb2.BlobProto()\n",
    "    bin_mean = open(binMean, 'rb' ).read()\n",
    "    blob.ParseFromString(bin_mean)\n",
    "    arr = np.array( caffe.io.blobproto_to_array(blob) )\n",
    "    npy_mean = arr[0]\n",
    "    np.save(npyMean, npy_mean )\n",
    "binMean=caffe_root+'examples/cifar10/mean.binaryproto'\n",
    "npyMean=caffe_root+'examples/cifar10/mean.npy'\n",
    "convert_mean(binMean,npyMean)"
   ]
  },
  {
   "cell_type": "code",
   "execution_count": 156,
   "metadata": {},
   "outputs": [],
   "source": [
    "#将图片载入blob中,并减去均值\n",
    "transformer = caffe.io.Transformer({'data': net.blobs['data'].data.shape})\n",
    "transformer.set_transpose('data', (2,0,1))\n",
    "# transformer.set_mean('data', np.load(npyMean).mean(1).mean(1)) # 减去均值\n",
    "# transformer.set_raw_scale('data', 255)  \n",
    "transformer.set_channel_swap('data', (2,1,0))\n",
    "net.blobs['data'].data[:] = transformer.preprocess('data',im)\n",
    "inputData=net.blobs['data'].data"
   ]
  },
  {
   "cell_type": "code",
   "execution_count": 162,
   "metadata": {},
   "outputs": [
    {
     "name": "stdout",
     "output_type": "stream",
     "text": [
      "(1, 3, 32, 32)\n",
      "(360, 480, 3)\n"
     ]
    }
   ],
   "source": [
    "print net.blobs['data'].data.shape\n",
    "print im.shape"
   ]
  }
 ],
 "metadata": {
  "kernelspec": {
   "display_name": "Python 2",
   "language": "python",
   "name": "python2"
  },
  "language_info": {
   "codemirror_mode": {
    "name": "ipython",
    "version": 2
   },
   "file_extension": ".py",
   "mimetype": "text/x-python",
   "name": "python",
   "nbconvert_exporter": "python",
   "pygments_lexer": "ipython2",
   "version": "2.7.14"
  }
 },
 "nbformat": 4,
 "nbformat_minor": 2
}
