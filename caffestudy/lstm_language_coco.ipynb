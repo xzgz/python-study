{
 "cells": [
  {
   "cell_type": "code",
   "execution_count": 24,
   "metadata": {},
   "outputs": [
    {
     "name": "stdout",
     "output_type": "stream",
     "text": [
      "(1, 1, 8801)\n"
     ]
    }
   ],
   "source": [
    "import numpy as np\n",
    "import matplotlib.pyplot as plt\n",
    "import sys, os, cv2, random\n",
    "\n",
    "caffe_root = '/home/heyanguang/caffecode/caffe/'\n",
    "sys.path.insert(0, caffe_root + 'python')\n",
    "os.chdir(caffe_root)\n",
    "import caffe\n",
    "\n",
    "sys.path.append('./examples/coco_caption')\n",
    "\n",
    "iter_num = 110000\n",
    "net = caffe.Net('./examples/coco_caption/lstm_lm.deploy.prototxt',\n",
    "                './examples/coco_caption/lstm_lm_iter_%d.caffemodel' % iter_num, caffe.TEST)\n",
    "print net.blobs['probs'].data.shape"
   ]
  },
  {
   "cell_type": "code",
   "execution_count": 25,
   "metadata": {},
   "outputs": [
    {
     "name": "stdout",
     "output_type": "stream",
     "text": [
      "8801\n"
     ]
    }
   ],
   "source": [
    "vocabulary = ['<EOS>'] + [line.strip() for line in\n",
    "                          open('examples/coco_caption/h5_data/buffer_100/vocabulary.txt').readlines()]\n",
    "print len(vocabulary)"
   ]
  },
  {
   "cell_type": "code",
   "execution_count": 27,
   "metadata": {
    "collapsed": true
   },
   "outputs": [],
   "source": [
    "def predict_single_word(net, previous_word, output='probs'):\n",
    "    cont = 0 if previous_word == 0 else 1\n",
    "    cont_input = np.array([cont])\n",
    "    word_input = np.array([previous_word])\n",
    "    net.forward(cont_sentence = cont_input, input_sentence = word_input)\n",
    "    output_preds = net.blobs[output].data[0, 0, :]\n",
    "    return output_preds"
   ]
  },
  {
   "cell_type": "code",
   "execution_count": 29,
   "metadata": {},
   "outputs": [
    {
     "name": "stdout",
     "output_type": "stream",
     "text": [
      "[  1.76822894e-07   1.57942320e-03   6.74888968e-01 ...,   3.47725489e-07\n",
      "   3.68430051e-07   7.07161462e-07]\n"
     ]
    }
   ],
   "source": [
    "# result = predict_single_word(net, 0)\n",
    "# first_word_dist = result[0, 0, :]\n",
    "first_word_dist = predict_single_word(net, 0)\n",
    "print first_word_dist"
   ]
  },
  {
   "cell_type": "code",
   "execution_count": 30,
   "metadata": {},
   "outputs": [
    {
     "name": "stdout",
     "output_type": "stream",
     "text": [
      "[  2  14   5  13  64  77  93  18  30 142]\n",
      "['a', 'two', 'the', 'an', 'there', 'three', 'several', 'people', 'some', 'this']\n"
     ]
    }
   ],
   "source": [
    "# Arrange small real number first.\n",
    "top_preds = np.argsort(-1 * first_word_dist)\n",
    "print top_preds[:10]\n",
    "print [vocabulary[index] for index in top_preds[:10]]"
   ]
  },
  {
   "cell_type": "code",
   "execution_count": 32,
   "metadata": {},
   "outputs": [
    {
     "name": "stdout",
     "output_type": "stream",
     "text": [
      "['men', 'people', 'giraffes', 'women', 'zebras', 'cats', 'dogs', 'elephants', 'horses', 'girls']\n"
     ]
    }
   ],
   "source": [
    "second_word_dist = predict_single_word(net, vocabulary.index('two'))\n",
    "print [vocabulary[index] for index in np.argsort(-1 * second_word_dist)[:10]]"
   ]
  },
  {
   "cell_type": "code",
   "execution_count": 35,
   "metadata": {},
   "outputs": [
    {
     "name": "stdout",
     "output_type": "stream",
     "text": [
      "['and', 'in', 'standing', 'next', 'near', 'at', 'behind', 'one', 'inside', 'on']\n"
     ]
    }
   ],
   "source": [
    "third_word_dist = predict_single_word(net, vocabulary.index('giraffes'))\n",
    "print [vocabulary[index] for index in np.argsort(-1 * second_word_dist)[:10]]"
   ]
  },
  {
   "cell_type": "code",
   "execution_count": 59,
   "metadata": {},
   "outputs": [
    {
     "name": "stdout",
     "output_type": "stream",
     "text": [
      "['from', 'grass', 'leaves', 'off', 'greens', 'and', ',', '<EOS>', 'hay', 'food']\n"
     ]
    }
   ],
   "source": [
    "third_word_dist = predict_single_word(net, vocabulary.index('eating'))\n",
    "print [vocabulary[index] for index in np.argsort(-1 * second_word_dist)[:10]]"
   ]
  },
  {
   "cell_type": "code",
   "execution_count": 61,
   "metadata": {
    "collapsed": true
   },
   "outputs": [],
   "source": [
    "def softmax(softmax_inputs, temp):\n",
    "    shifted_inputs = softmax_inputs - softmax_inputs.max()\n",
    "    exp_outputs = np.exp(temp * shifted_inputs)\n",
    "    exp_outputs_sum = exp_outputs.sum()\n",
    "    if np.isnan(exp_outputs_sum):\n",
    "        return exp_outputs * float('nan')\n",
    "    assert exp_outputs_sum > 0\n",
    "    if np.isinf(exp_outputs_sum):\n",
    "        return np.zeros_like(exp_outputs)\n",
    "    eps_sum = 1e-20\n",
    "    return exp_outputs / max(exp_outputs_sum, eps_sum)\n",
    "\n",
    "def random_choice_from_probs(softmax_inputs, temp = 1):\n",
    "    # temperature of infinity == take the max\n",
    "    if temp == float('inf'):\n",
    "        return np.argmax(softmax_inputs)\n",
    "    probs = softmax(softmax_inputs, temp)\n",
    "    r = random.random()\n",
    "    cum_sum = 0.\n",
    "    for i, p in enumerate(probs):\n",
    "        cum_sum += p\n",
    "        if cum_sum >= r: return i\n",
    "    return 1  # return UNK?"
   ]
  },
  {
   "cell_type": "code",
   "execution_count": 184,
   "metadata": {},
   "outputs": [
    {
     "name": "stdout",
     "output_type": "stream",
     "text": [
      "[0]\n",
      "['<EOS>']\n"
     ]
    }
   ],
   "source": [
    "def generate_sentence(net, temp = float('inf'), output = 'predict', max_words = 50):\n",
    "    cont_input = np.array([0])\n",
    "    word_input = np.array([1])\n",
    "    sentence = []\n",
    "    while len(sentence) < max_words and (not sentence or sentence[-1] != 0):\n",
    "        net.forward(cont_sentence = cont_input, input_sentence = word_input)\n",
    "        output_preds = net.blobs[output].data[0, 0, :]\n",
    "        sentence.append(random_choice_from_probs(output_preds, temp = temp))\n",
    "        cont_input[0] = 1\n",
    "        word_input[0] = sentence[-1]\n",
    "    return sentence\n",
    "\n",
    "sentence = generate_sentence(net, temp = 10)\n",
    "print sentence\n",
    "print [vocabulary[index] for index in sentence]"
   ]
  },
  {
   "cell_type": "code",
   "execution_count": 190,
   "metadata": {},
   "outputs": [
    {
     "name": "stdout",
     "output_type": "stream",
     "text": [
      "[0]\n",
      "['<EOS>']\n"
     ]
    }
   ],
   "source": [
    "sentence = generate_sentence(net, 10)\n",
    "print sentence\n",
    "print [vocabulary[index] for index in sentence]"
   ]
  },
  {
   "cell_type": "code",
   "execution_count": 105,
   "metadata": {},
   "outputs": [
    {
     "data": {
      "text/plain": [
       "array(['<EOS>', '<unk>', 'a', 'on', 'of', 'the', 'in', 'with', 'and', 'is',\n",
       "       'man', 'to', 'sitting', 'an', 'two', ',', 'standing', 'at',\n",
       "       'people', 'are', 'next', 'white', 'woman', 'table', 'street',\n",
       "       'that', 'holding', 'it', 'person', 'large', 'some', 'down', 'top',\n",
       "       'group', 'up', 'field', 'small', 'near', 'tennis', 'his', 'front',\n",
       "       'black', 'plate', 'room', 'train', 'dog', 'riding', 'red', 'by',\n",
       "       'young'],\n",
       "      dtype='|S16')"
      ]
     },
     "execution_count": 105,
     "metadata": {},
     "output_type": "execute_result"
    }
   ],
   "source": [
    "np.array(vocabulary)[0:50]"
   ]
  },
  {
   "cell_type": "code",
   "execution_count": 135,
   "metadata": {},
   "outputs": [
    {
     "data": {
      "text/plain": [
       "0"
      ]
     },
     "execution_count": 135,
     "metadata": {},
     "output_type": "execute_result"
    }
   ],
   "source": [
    "sentence[-1]"
   ]
  },
  {
   "cell_type": "code",
   "execution_count": 103,
   "metadata": {},
   "outputs": [
    {
     "name": "stdout",
     "output_type": "stream",
     "text": [
      "<unk>\r\n",
      "a\r\n",
      "on\r\n",
      "of\r\n",
      "the\r\n",
      "in\r\n",
      "with\r\n",
      "and\r\n",
      "is\r\n",
      "man\r\n"
     ]
    }
   ],
   "source": [
    "!head examples/coco_caption/h5_data/buffer_100/vocabulary.txt"
   ]
  }
 ],
 "metadata": {
  "kernelspec": {
   "display_name": "python27",
   "language": "python",
   "name": "python27"
  },
  "language_info": {
   "codemirror_mode": {
    "name": "ipython",
    "version": 2
   },
   "file_extension": ".py",
   "mimetype": "text/x-python",
   "name": "python",
   "nbconvert_exporter": "python",
   "pygments_lexer": "ipython2",
   "version": "2.7.13"
  }
 },
 "nbformat": 4,
 "nbformat_minor": 2
}
