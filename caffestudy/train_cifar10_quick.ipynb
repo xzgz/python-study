{
 "cells": [
  {
   "cell_type": "code",
   "execution_count": 1,
   "metadata": {},
   "outputs": [
    {
     "name": "stdout",
     "output_type": "stream",
     "text": [
      "Iteration 0 testing... accuracy:  0.20000000298\n",
      "Iteration 200 testing... accuracy:  0.430000007153\n",
      "Iteration 400 testing... accuracy:  0.419999986887\n",
      "Iteration 600 testing... accuracy:  0.509999990463\n",
      "Iteration 800 testing... accuracy:  0.589999973774\n",
      "Iteration 1000 testing... accuracy:  0.600000023842\n",
      "Iteration 1200 testing... accuracy:  0.639999985695\n",
      "Iteration 1400 testing... accuracy:  0.610000014305\n",
      "Iteration 1600 testing... accuracy:  0.639999985695\n",
      "Iteration 1800 testing... accuracy:  0.699999988079\n",
      "Iteration 2000 testing... accuracy:  0.699999988079\n",
      "Iteration 2200 testing... accuracy:  0.629999995232\n",
      "Iteration 2400 testing... accuracy:  0.639999985695\n",
      "Iteration 2600 testing... accuracy:  0.699999988079\n",
      "Iteration 2800 testing... accuracy:  0.699999988079\n",
      "Iteration 3000 testing... accuracy:  0.72000002861\n",
      "Iteration 3200 testing... accuracy:  0.689999997616\n",
      "Iteration 3400 testing... accuracy:  0.649999976158\n",
      "Iteration 3600 testing... accuracy:  0.730000019073\n",
      "Iteration 3800 testing... accuracy:  0.72000002861\n",
      "Iteration 4000 testing... accuracy:  0.730000019073\n",
      "Iteration 4200 testing... accuracy:  0.730000019073\n",
      "Iteration 4400 testing... accuracy:  0.759999990463\n",
      "Iteration 4600 testing... accuracy:  0.75\n",
      "Iteration 4800 testing... accuracy:  0.769999980927\n",
      "Iteration 5000 testing... accuracy:  0.769999980927\n",
      "Iteration 5200 testing... accuracy:  0.75\n",
      "Iteration 5400 testing... accuracy:  0.769999980927\n",
      "Iteration 5600 testing... accuracy:  0.75\n",
      "Iteration 5800 testing... accuracy:  0.759999990463\n",
      "Iteration 6000 testing... accuracy:  0.769999980927\n",
      "Iteration 6200 testing... accuracy:  0.759999990463\n",
      "Iteration 6400 testing... accuracy:  0.769999980927\n",
      "Iteration 6600 testing... accuracy:  0.75\n",
      "Iteration 6800 testing... accuracy:  0.759999990463\n",
      "Iteration 7000 testing... accuracy:  0.769999980927\n",
      "Iteration 7200 testing... accuracy:  0.759999990463\n",
      "Iteration 7400 testing... accuracy:  0.769999980927\n",
      "Iteration 7600 testing... accuracy:  0.769999980927\n",
      "Iteration 7800 testing... accuracy:  0.77999997139\n",
      "Iteration 8000 testing... accuracy:  0.77999997139\n",
      "Iteration 8200 testing... accuracy:  0.759999990463\n",
      "Iteration 8400 testing... accuracy:  0.769999980927\n",
      "Iteration 8600 testing... accuracy:  0.769999980927\n",
      "Iteration 8800 testing... accuracy:  0.77999997139\n",
      "Iteration 9000 testing... accuracy:  0.77999997139\n",
      "Iteration 9200 testing... accuracy:  0.769999980927\n",
      "Iteration 9400 testing... accuracy:  0.77999997139\n",
      "Iteration 9600 testing... accuracy:  0.769999980927\n",
      "Iteration 9800 testing... accuracy:  0.790000021458\n",
      "Iteration 10000 testing... accuracy:  0.77999997139\n"
     ]
    },
    {
     "ename": "IndexError",
     "evalue": "index 50 is out of bounds for axis 0 with size 50",
     "output_type": "error",
     "traceback": [
      "\u001b[0;31m---------------------------------------------------------------------------\u001b[0m",
      "\u001b[0;31mIndexError\u001b[0m                                Traceback (most recent call last)",
      "\u001b[0;32m<ipython-input-1-9d17bce8d940>\u001b[0m in \u001b[0;36m<module>\u001b[0;34m()\u001b[0m\n\u001b[1;32m     47\u001b[0m         \u001b[0macc\u001b[0m \u001b[0;34m=\u001b[0m \u001b[0msolver\u001b[0m\u001b[0;34m.\u001b[0m\u001b[0mtest_nets\u001b[0m\u001b[0;34m[\u001b[0m\u001b[0;36m0\u001b[0m\u001b[0;34m]\u001b[0m\u001b[0;34m.\u001b[0m\u001b[0mblobs\u001b[0m\u001b[0;34m[\u001b[0m\u001b[0;34m'accuracy'\u001b[0m\u001b[0;34m]\u001b[0m\u001b[0;34m.\u001b[0m\u001b[0mdata\u001b[0m\u001b[0;34m\u001b[0m\u001b[0m\n\u001b[1;32m     48\u001b[0m         \u001b[0;32mprint\u001b[0m \u001b[0;34m'Iteration'\u001b[0m\u001b[0;34m,\u001b[0m \u001b[0mit\u001b[0m\u001b[0;34m,\u001b[0m \u001b[0;34m'testing...'\u001b[0m\u001b[0;34m,\u001b[0m \u001b[0;34m'accuracy: '\u001b[0m\u001b[0;34m,\u001b[0m \u001b[0macc\u001b[0m\u001b[0;34m\u001b[0m\u001b[0m\n\u001b[0;32m---> 49\u001b[0;31m         \u001b[0mtest_acc\u001b[0m\u001b[0;34m[\u001b[0m\u001b[0mit\u001b[0m\u001b[0;34m/\u001b[0m\u001b[0mtest_interval\u001b[0m\u001b[0;34m]\u001b[0m \u001b[0;34m=\u001b[0m \u001b[0macc\u001b[0m\u001b[0;34m\u001b[0m\u001b[0m\n\u001b[0m\u001b[1;32m     50\u001b[0m \u001b[0;34m\u001b[0m\u001b[0m\n",
      "\u001b[0;31mIndexError\u001b[0m: index 50 is out of bounds for axis 0 with size 50"
     ]
    }
   ],
   "source": [
    "import numpy as np\n",
    "import matplotlib.pyplot as plt\n",
    "import sys, os, cv2, struct\n",
    "\n",
    "caffe_root = '/home/heyanguang/caffecode/caffe/'\n",
    "sys.path.insert(0, caffe_root + 'python')\n",
    "os.chdir(caffe_root)\n",
    "import caffe\n",
    "\n",
    "caffe.set_device(0)\n",
    "caffe.set_mode_gpu()\n",
    "solver = caffe.SGDSolver('examples/cifar10/cifar10_quick_solver_py.prototxt')\n",
    "\n",
    "niter = 4000\n",
    "niter1 = 6001\n",
    "\n",
    "test_interval = 200\n",
    "train_loss = np.zeros(niter + niter1)\n",
    "test_acc = np.zeros(int(np.ceil((niter + niter1)/test_interval)))\n",
    "\n",
    "# the main solver loop\n",
    "for it in range(niter):\n",
    "    solver.step(1)\n",
    "    \n",
    "    # store the train loss\n",
    "    train_loss[it] = solver.net.blobs['loss'].data\n",
    "    solver.test_nets[0].forward(start = 'conv1')\n",
    "    \n",
    "    if it % test_interval == 0:\n",
    "        acc = solver.test_nets[0].blobs['accuracy'].data\n",
    "        print 'Iteration', it, 'testing...', 'accuracy: ', acc\n",
    "        test_acc[it/test_interval] = acc\n",
    "        \n",
    "        \n",
    "solver = caffe.SGDSolver('examples/cifar10/cifar10_quick_solver_lr1_py.prototxt')\n",
    "solver.restore('examples/cifar10/cifar10_quick_py_iter_4000.solverstate')\n",
    "\n",
    "# the main solver loop\n",
    "for it in range(niter, niter + niter1):\n",
    "    solver.step(1)\n",
    "    \n",
    "    # store the train loss\n",
    "    train_loss[it] = solver.net.blobs['loss'].data\n",
    "    solver.test_nets[0].forward(start = 'conv1')\n",
    "    \n",
    "    if it % test_interval == 0:\n",
    "        acc = solver.test_nets[0].blobs['accuracy'].data\n",
    "        print 'Iteration', it, 'testing...', 'accuracy: ', acc\n",
    "        test_acc[it/test_interval] = acc\n",
    "        "
   ]
  },
  {
   "cell_type": "code",
   "execution_count": 1,
   "metadata": {},
   "outputs": [
    {
     "ename": "NameError",
     "evalue": "name 'test_acc' is not defined",
     "output_type": "error",
     "traceback": [
      "\u001b[0;31m---------------------------------------------------------------------------\u001b[0m",
      "\u001b[0;31mNameError\u001b[0m                                 Traceback (most recent call last)",
      "\u001b[0;32m<ipython-input-1-69b77a075601>\u001b[0m in \u001b[0;36m<module>\u001b[0;34m()\u001b[0m\n\u001b[0;32m----> 1\u001b[0;31m \u001b[0;32mprint\u001b[0m \u001b[0mlen\u001b[0m\u001b[0;34m(\u001b[0m\u001b[0mtest_acc\u001b[0m\u001b[0;34m)\u001b[0m\u001b[0;34m\u001b[0m\u001b[0m\n\u001b[0m\u001b[1;32m      2\u001b[0m \u001b[0mtest_interval\u001b[0m\u001b[0;34m\u001b[0m\u001b[0m\n\u001b[1;32m      3\u001b[0m \u001b[0mtest_interval\u001b[0m \u001b[0;34m*\u001b[0m \u001b[0mnp\u001b[0m\u001b[0;34m.\u001b[0m\u001b[0marange\u001b[0m\u001b[0;34m(\u001b[0m\u001b[0mlen\u001b[0m\u001b[0;34m(\u001b[0m\u001b[0mtest_acc\u001b[0m\u001b[0;34m)\u001b[0m\u001b[0;34m)\u001b[0m\u001b[0;34m\u001b[0m\u001b[0m\n",
      "\u001b[0;31mNameError\u001b[0m: name 'test_acc' is not defined"
     ]
    }
   ],
   "source": [
    "print len(test_acc)\n",
    "test_interval\n",
    "test_interval * np.arange(len(test_acc))"
   ]
  },
  {
   "cell_type": "code",
   "execution_count": 37,
   "metadata": {},
   "outputs": [
    {
     "name": "stdout",
     "output_type": "stream",
     "text": [
      "[ 0.14        0.40000001  0.47        0.52999997  0.63        0.61000001\n",
      "  0.66000003  0.62        0.67000002  0.69999999  0.67000002  0.69999999\n",
      "  0.67000002  0.69999999  0.70999998  0.69        0.70999998  0.69999999\n",
      "  0.70999998  0.75        0.75999999  0.81        0.77999997  0.80000001\n",
      "  0.80000001  0.77999997  0.80000001  0.79000002  0.79000002  0.79000002\n",
      "  0.77999997  0.77999997  0.80000001  0.79000002  0.79000002  0.77999997\n",
      "  0.79000002  0.81        0.81        0.81        0.79000002  0.79000002\n",
      "  0.81        0.81        0.81        0.77999997  0.79000002  0.81        0.81\n",
      "  0.81      ]\n"
     ]
    },
    {
     "data": {
      "image/png": "[encoded data removed]",
      "text/plain": [
       "<matplotlib.figure.Figure at 0x7f39c8adf150>"
      ]
     },
     "metadata": {},
     "output_type": "display_data"
    }
   ],
   "source": [
    "print test_acc\n",
    "_, ax1 = plt.subplots()\n",
    "ax2 = ax1.twinx()\n",
    "ax1.plot(np.arange(niter + niter1), train_loss)\n",
    "ax2.plot(test_interval * np.arange(len(test_acc)), test_acc, 'r')\n",
    "ax1.set_xlabel('iteration')\n",
    "ax1.set_ylabel('train loss')\n",
    "ax2.set_ylabel('test accuracy')\n",
    "\n",
    "\n",
    "plt.show()\n"
   ]
  }
 ],
 "metadata": {
  "kernelspec": {
   "display_name": "Python 2",
   "language": "python",
   "name": "python2"
  },
  "language_info": {
   "codemirror_mode": {
    "name": "ipython",
    "version": 2
   },
   "file_extension": ".py",
   "mimetype": "text/x-python",
   "name": "python",
   "nbconvert_exporter": "python",
   "pygments_lexer": "ipython2",
   "version": "2.7.14"
  }
 },
 "nbformat": 4,
 "nbformat_minor": 2
}
